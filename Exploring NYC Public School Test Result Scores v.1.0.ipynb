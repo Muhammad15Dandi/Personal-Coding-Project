{
 "cells": [
  {
   "cell_type": "markdown",
   "id": "6b67d6d6",
   "metadata": {},
   "source": [
    "# Which NYC schools have the best math results?"
   ]
  },
  {
   "cell_type": "markdown",
   "id": "066d6004",
   "metadata": {},
   "source": [
    "# Executive Summary\n",
    "This analysis delves into school performance, shedding light on math proficiency and overall SAT scores. It's a treasure trove of insights for students, educators, and policymakers alike. By pinpointing top-performing schools and uncovering SAT score variations across NYC boroughs, it guides targeted interventions and resource allocation strategies to uplift academic success."
   ]
  },
  {
   "cell_type": "markdown",
   "id": "ca1f61d3",
   "metadata": {},
   "source": [
    "# Code Section:"
   ]
  },
  {
   "cell_type": "code",
   "execution_count": null,
   "id": "71c393b0",
   "metadata": {},
   "outputs": [],
   "source": [
    "# Re-run this cell \n",
    "import pandas as pd\n",
    "\n",
    "# Read in the data\n",
    "schools = pd.read_csv(\"schools.csv\")\n",
    "\n",
    "# Preview the data\n",
    "schools.head()\n",
    "\n",
    "# Start coding here...\n",
    "# Re-run this cell \n",
    "import pandas as pd\n",
    "\n",
    "# Read in the data\n",
    "schools = pd.read_csv(\"schools.csv\")\n",
    "\n",
    "# Preview the data\n",
    "schools.head()\n",
    "\n",
    "# Which schools are best for math?\n",
    "best_math_schools = schools[schools[\"average_math\"] >= 640][[\"school_name\", \"average_math\"]].sort_values(\"average_math\", ascending=False)\n",
    "\n",
    "# Calculate total_SAT per school\n",
    "schools[\"total_SAT\"] = schools[\"average_math\"] + schools[\"average_reading\"] + schools[\"average_writing\"]\n",
    "\n",
    "# Who are the top 10 performing schools?\n",
    "top_10_schools = schools.sort_values(\"total_SAT\", ascending=False)[[\"school_name\", \"total_SAT\"]].head(10)\n",
    "\n",
    "# Which NYC borough has the highest standard deviation for total_SAT?\n",
    "boroughs = schools.groupby(\"borough\")[\"total_SAT\"].agg([\"count\", \"mean\", \"std\"]).round(2)\n",
    "\n",
    "# Filter for max std and make borough a column\n",
    "largest_std_dev = boroughs[boroughs[\"std\"] == boroughs[\"std\"].max()]\n",
    "\n",
    "# Rename the columns for clarity\n",
    "largest_std_dev = largest_std_dev.rename(columns={\"count\": \"num_schools\", \"mean\": \"average_SAT\", \"std\": \"std_SAT\"})\n",
    "\n",
    "# Optional: Move borough from index to column\n",
    "largest_std_dev.reset_index(inplace=True)"
   ]
  },
  {
   "cell_type": "markdown",
   "id": "f853b8d4",
   "metadata": {},
   "source": [
    "# The Output"
   ]
  },
  {
   "cell_type": "markdown",
   "id": "c3b46b3f",
   "metadata": {},
   "source": [
    "__Top 10 Performing Schools__\n",
    "|   | School Name                                        | Total SAT |\n",
    "|---|----------------------------------------------------|-----------|\n",
    "| 1 | Stuyvesant High School                             | 2144      |\n",
    "| 2 | Bronx High School of Science                        | 2041      |\n",
    "| 3 | Staten Island Technical High School                 | 2041      |\n",
    "| 4 | High School of American Studies at Lehman College   | 2013      |\n",
    "| 5 | Townsend Harris High School                         | 1981      |\n",
    "| 6 | Queens High School for the Sciences at York College | 1947      |\n",
    "| 7 | Bard High School Early College                      | 1914      |\n",
    "| 8 | Brooklyn Technical High School                      | 1896      |\n",
    "| 9 | Eleanor Roosevelt High School                       | 1889      |\n",
    "| 10| High School for Mathematics, Science, and Engineering| 1889     |"
   ]
  },
  {
   "cell_type": "markdown",
   "id": "6d54bb80",
   "metadata": {},
   "source": [
    "__Borough with Highest SAT Standard Deviation__\n",
    "\n",
    "| Borough        | Count | Mean   | Std    |\n",
    "|----------------|-------|--------|--------|\n",
    "| Bronx          | 98    | 1202.72| 150.39 |\n",
    "| Brooklyn       | 109   | 1230.26| 154.87 |\n",
    "| Manhattan      | 89    | 1340.13| 230.29 |\n",
    "| Queens         | 69    | 1345.48| 195.25 |\n",
    "| Staten Island  | 10    | 1439.00| 222.30 |"
   ]
  }
 ],
 "metadata": {
  "kernelspec": {
   "display_name": "Python 3 (ipykernel)",
   "language": "python",
   "name": "python3"
  },
  "language_info": {
   "codemirror_mode": {
    "name": "ipython",
    "version": 3
   },
   "file_extension": ".py",
   "mimetype": "text/x-python",
   "name": "python",
   "nbconvert_exporter": "python",
   "pygments_lexer": "ipython3",
   "version": "3.11.5"
  }
 },
 "nbformat": 4,
 "nbformat_minor": 5
}
